{
 "cells": [
  {
   "cell_type": "markdown",
   "id": "cdb8fb23",
   "metadata": {},
   "source": [
    "# Defining function\n",
    "1) Use command: def...():\n"
   ]
  },
  {
   "cell_type": "markdown",
   "id": "aeda0650",
   "metadata": {},
   "source": [
    "def summary(a,b): "
   ]
  },
  {
   "cell_type": "markdown",
   "id": "93ee9b0b",
   "metadata": {},
   "source": [
    "# Function body\n",
    "2) Define what our function need to do"
   ]
  },
  {
   "cell_type": "markdown",
   "id": "6cb43931",
   "metadata": {},
   "source": [
    "def summary(a,b):\n",
    "    print(a+b)"
   ]
  },
  {
   "cell_type": "markdown",
   "id": "632ce9b4",
   "metadata": {},
   "source": [
    "# Return result\n",
    "3) This is how to elicit our function"
   ]
  },
  {
   "cell_type": "markdown",
   "id": "7a0f3064",
   "metadata": {},
   "source": [
    "summary(a,b)"
   ]
  },
  {
   "cell_type": "markdown",
   "id": "7814cd5e",
   "metadata": {},
   "source": [
    "# Elicit"
   ]
  },
  {
   "cell_type": "code",
   "execution_count": 2,
   "id": "d5bbd62a",
   "metadata": {},
   "outputs": [
    {
     "name": "stdout",
     "output_type": "stream",
     "text": [
      "8\n"
     ]
    }
   ],
   "source": [
    "a=2\n",
    "b=6\n",
    "def summary(a,b):\n",
    "    print(a+b)\n",
    "    \n",
    "summary(a,b)"
   ]
  }
 ],
 "metadata": {
  "kernelspec": {
   "display_name": "Python 3 (ipykernel)",
   "language": "python",
   "name": "python3"
  },
  "language_info": {
   "codemirror_mode": {
    "name": "ipython",
    "version": 3
   },
   "file_extension": ".py",
   "mimetype": "text/x-python",
   "name": "python",
   "nbconvert_exporter": "python",
   "pygments_lexer": "ipython3",
   "version": "3.9.12"
  }
 },
 "nbformat": 4,
 "nbformat_minor": 5
}
